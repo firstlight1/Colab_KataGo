{
  "nbformat": 4,
  "nbformat_minor": 0,
  "metadata": {
    "colab": {
      "provenance": [],
      "authorship_tag": "ABX9TyP2RJHG6xE3VWfh6Mpd+35j",
      "include_colab_link": true
    },
    "kernelspec": {
      "name": "python3",
      "display_name": "Python 3"
    },
    "language_info": {
      "name": "python"
    },
    "accelerator": "GPU"
  },
  "cells": [
    {
      "cell_type": "markdown",
      "metadata": {
        "id": "view-in-github",
        "colab_type": "text"
      },
      "source": [
        "<a href=\"https://colab.research.google.com/github/firstlight1/Colab_KataGo/blob/main/SelfplayTraining_KataGo.ipynb\" target=\"_parent\"><img src=\"https://colab.research.google.com/assets/colab-badge.svg\" alt=\"Open In Colab\"/></a>"
      ]
    },
    {
      "cell_type": "code",
      "source": [
        "!nvidia-smi"
      ],
      "metadata": {
        "colab": {
          "base_uri": "https://localhost:8080/"
        },
        "id": "Ihfx3h41rMJ9",
        "outputId": "55bd5724-d8b8-495e-bdd5-1cddfc4f1a18"
      },
      "execution_count": 3,
      "outputs": [
        {
          "output_type": "stream",
          "name": "stdout",
          "text": [
            "Sun Sep 25 20:22:27 2022       \n",
            "+-----------------------------------------------------------------------------+\n",
            "| NVIDIA-SMI 460.32.03    Driver Version: 460.32.03    CUDA Version: 11.2     |\n",
            "|-------------------------------+----------------------+----------------------+\n",
            "| GPU  Name        Persistence-M| Bus-Id        Disp.A | Volatile Uncorr. ECC |\n",
            "| Fan  Temp  Perf  Pwr:Usage/Cap|         Memory-Usage | GPU-Util  Compute M. |\n",
            "|                               |                      |               MIG M. |\n",
            "|===============================+======================+======================|\n",
            "|   0  Tesla T4            Off  | 00000000:00:04.0 Off |                    0 |\n",
            "| N/A   45C    P8     9W /  70W |      0MiB / 15109MiB |      0%      Default |\n",
            "|                               |                      |                  N/A |\n",
            "+-------------------------------+----------------------+----------------------+\n",
            "                                                                               \n",
            "+-----------------------------------------------------------------------------+\n",
            "| Processes:                                                                  |\n",
            "|  GPU   GI   CI        PID   Type   Process name                  GPU Memory |\n",
            "|        ID   ID                                                   Usage      |\n",
            "|=============================================================================|\n",
            "|  No running processes found                                                 |\n",
            "+-----------------------------------------------------------------------------+\n"
          ]
        }
      ]
    },
    {
      "cell_type": "code",
      "source": [
        "!ls -al /content/\n",
        "!python -V\n",
        "#%tensorflow_version 1.x\n",
        "\n",
        "!pip uninstall tensorflow\n",
        "!pip install tensorflow-gpu==1.15\n",
        "!apt install --allow-change-held-packages libcudnn7=7.4.1.5-1+cuda10.0\n",
        "\n",
        "import tensorflow\n",
        "print(tensorflow.__version__)\n",
        "\n",
        "!gcc --version\n",
        "!g++ --version\n",
        "\n",
        "\n",
        "!apt-get install zlib1g-dev libzip-dev libboost-filesystem-dev libgoogle-perftools-dev openssh-server"
      ],
      "metadata": {
        "colab": {
          "base_uri": "https://localhost:8080/"
        },
        "id": "QqZ5FXX1twTE",
        "outputId": "eb4039ca-71ee-423a-9b28-52535aacfcb4"
      },
      "execution_count": null,
      "outputs": [
        {
          "output_type": "stream",
          "name": "stdout",
          "text": [
            "total 20\n",
            "drwxr-xr-x 1 root root 4096 Sep 25 20:22 .\n",
            "drwxr-xr-x 1 root root 4096 Sep 25 20:21 ..\n",
            "drwxr-xr-x 4 root root 4096 Sep 22 13:41 .config\n",
            "-rw-r--r-- 1 root root   65 Sep 25 20:22 log.txt\n",
            "drwxr-xr-x 1 root root 4096 Sep 22 13:42 sample_data\n",
            "Python 3.7.14\n",
            "Found existing installation: tensorflow 2.8.2+zzzcolab20220719082949\n",
            "Uninstalling tensorflow-2.8.2+zzzcolab20220719082949:\n",
            "  Would remove:\n",
            "    /usr/local/bin/estimator_ckpt_converter\n",
            "    /usr/local/bin/import_pb_to_tensorboard\n",
            "    /usr/local/bin/saved_model_cli\n",
            "    /usr/local/bin/tensorboard\n",
            "    /usr/local/bin/tf_upgrade_v2\n",
            "    /usr/local/bin/tflite_convert\n",
            "    /usr/local/bin/toco\n",
            "    /usr/local/bin/toco_from_protos\n",
            "    /usr/local/lib/python3.7/dist-packages/tensorflow-2.8.2+zzzcolab20220719082949.dist-info/*\n",
            "    /usr/local/lib/python3.7/dist-packages/tensorflow/*\n",
            "Proceed (y/n)? "
          ]
        }
      ]
    },
    {
      "cell_type": "code",
      "source": [
        "!git clone https://github.com/firstlight1/Colab_KataGo.git\n",
        "!git clone https://github.com/lightvector/KataGo.git\n",
        "!unzip /content/Colab_KataGo/katago.zip -d /content/Colab_KataGo/katago\n",
        "!cp /content/Colab_KataGo/katago/katago /content/KataGo/cpp\n",
        "!chmod 777 /content/KataGo/cpp/katago\n",
        "!chmod 777 KataGo\n",
        "%cd /content/KataGo/"
      ],
      "metadata": {
        "colab": {
          "base_uri": "https://localhost:8080/"
        },
        "id": "42JWq8mitpJu",
        "outputId": "71884fab-b18c-4d97-bdb1-11b389e2c747"
      },
      "execution_count": null,
      "outputs": [
        {
          "output_type": "stream",
          "name": "stdout",
          "text": [
            "Cloning into 'Colab_KataGo'...\n",
            "remote: Enumerating objects: 3, done.\u001b[K\n",
            "remote: Counting objects: 100% (3/3), done.\u001b[K\n",
            "remote: Compressing objects: 100% (2/2), done.\u001b[K\n",
            "remote: Total 3 (delta 0), reused 0 (delta 0), pack-reused 0\u001b[K\n",
            "Unpacking objects: 100% (3/3), done.\n",
            "Cloning into 'KataGo'...\n",
            "remote: Enumerating objects: 24759, done.\u001b[K\n",
            "remote: Counting objects: 100% (499/499), done.\u001b[K\n",
            "remote: Compressing objects: 100% (208/208), done.\u001b[K\n",
            "remote: Total 24759 (delta 292), reused 481 (delta 287), pack-reused 24260\u001b[K\n",
            "Receiving objects: 100% (24759/24759), 65.77 MiB | 43.00 MiB/s, done.\n",
            "Resolving deltas: 100% (19781/19781), done.\n",
            "Archive:  /content/Colab_KataGo/katago.zip\n",
            "  inflating: /content/Colab_KataGo/katago/katago  \n",
            "/content/KataGo\n"
          ]
        }
      ]
    },
    {
      "cell_type": "code",
      "source": [
        "!/content/KataGo/cpp/katago selfplay -output-dir /content/KataGo/selfplay -models-dir /content/KataGo/models -config /content/KataGo/cpp/configs/training/selfplay1.cfg >> log.txt 2>&1 & disown"
      ],
      "metadata": {
        "id": "w8LYkN23wdiV"
      },
      "execution_count": 1,
      "outputs": []
    },
    {
      "cell_type": "code",
      "source": [
        "%cd /content/KataGo/python\n",
        "!./selfplay/shuffle_and_export_loop.sh \"s1\" /content/KataGo /content/KataGo/Scr 128 256 0# -min-rows 250000"
      ],
      "metadata": {
        "colab": {
          "base_uri": "https://localhost:8080/"
        },
        "id": "HCLUZOI8xH-4",
        "outputId": "714810db-7b08-4c07-81df-76ef32f7f122"
      },
      "execution_count": 2,
      "outputs": [
        {
          "output_type": "stream",
          "name": "stdout",
          "text": [
            "[Errno 2] No such file or directory: '/content/KataGo/python'\n",
            "/content\n",
            "/bin/bash: ./selfplay/shuffle_and_export_loop.sh: No such file or directory\n"
          ]
        }
      ]
    },
    {
      "cell_type": "code",
      "source": [
        "%cd /content/KataGo/python/\n",
        "!./selfplay/train.sh /content/KataGo \"s1\" b6c96 256 main -lr-scale 1.0 >> log.txt 2>&1 & disown"
      ],
      "metadata": {
        "colab": {
          "base_uri": "https://localhost:8080/"
        },
        "id": "1iK0eHt5yWgp",
        "outputId": "f1bc72ad-bdd9-4e0e-e224-36a4dd0c7bf1"
      },
      "execution_count": null,
      "outputs": [
        {
          "output_type": "stream",
          "name": "stdout",
          "text": [
            "/content/KataGo/python\n"
          ]
        }
      ]
    },
    {
      "cell_type": "code",
      "execution_count": null,
      "metadata": {
        "id": "GQdTs62DqGBw"
      },
      "outputs": [],
      "source": [
        "#!/content/KataGo/cpp/katago selfplay -output-dir /content/KataGo/selfplay -models-dir /content/KataGo/models -config /content/KataGo/cpp/configs/training/selfplay1.cfg >> log.txt 2>&1 & disown\n",
        "\n",
        "#%cd /content/KataGo/python/\n",
        "#!./selfplay/shuffle_and_export_loop.sh \"s1\" /content/KataGo /content/KataGo/Scr 128 256 1 -min-rows 250000\n",
        "\n",
        "#%cd /content/KataGo/python/\n",
        "#!./selfplay/train.sh /content/KataGo \"s1\" b6c96 256 main -lr-scale 1.0 >> log.txt 2>&1 & disown\n",
        "\n",
        "#!/content/KataGo/cpp/katago gatekeeper -rejected-models-dir /content/KataGo/rejectedmodels -accepted-models-dir /content/KataGo/models/ -sgf-output-dir /content/KataGo/gatekeepersgf/ -test-models-dir /content/KataGo/modelstobetested/ -config /content/KataGo/cpp/configs/training/gatekeeper1.cfg >> log.txt 2>&1 & disown"
      ]
    }
  ]
}